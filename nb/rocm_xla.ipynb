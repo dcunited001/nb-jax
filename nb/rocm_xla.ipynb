{
 "cells": [
  {
   "cell_type": "code",
   "execution_count": 1,
   "id": "19855515-8bed-4281-a6ae-8cdc7dfcd244",
   "metadata": {
    "tags": []
   },
   "outputs": [
    {
     "ename": "ModuleNotFoundError",
     "evalue": "No module named 'tensorflow'",
     "output_type": "error",
     "traceback": [
      "\u001b[0;31m---------------------------------------------------------------------------\u001b[0m",
      "\u001b[0;31mModuleNotFoundError\u001b[0m                       Traceback (most recent call last)",
      "Cell \u001b[0;32mIn[1], line 1\u001b[0m\n\u001b[0;32m----> 1\u001b[0m \u001b[38;5;28;01mimport\u001b[39;00m \u001b[38;5;21;01mtensorflow\u001b[39;00m \u001b[38;5;28;01mas\u001b[39;00m \u001b[38;5;21;01mtf\u001b[39;00m\n\u001b[1;32m      2\u001b[0m tf\u001b[38;5;241m.\u001b[39mconfig\u001b[38;5;241m.\u001b[39mlist_physical_devices()\n",
      "\u001b[0;31mModuleNotFoundError\u001b[0m: No module named 'tensorflow'"
     ]
    }
   ],
   "source": [
    "import tensorflow as tf\n",
    "tf.config.list_physical_devices()"
   ]
  },
  {
   "cell_type": "code",
   "execution_count": 3,
   "id": "929ee56b-d5b0-4de0-8ce5-5401511a1c58",
   "metadata": {
    "tags": []
   },
   "outputs": [
    {
     "data": {
      "text/plain": [
       "'cpu,rocm'"
      ]
     },
     "execution_count": 3,
     "metadata": {},
     "output_type": "execute_result"
    }
   ],
   "source": [
    "import jax.numpy as jnp\n",
    "from jax import config as jcfg\n",
    "from jax import grad, jit, vmap\n",
    "from jax import random\n",
    "\n",
    "key = random.PRNGKey(0)\n",
    "\n",
    "#jcfg.jax_platforms"
   ]
  },
  {
   "cell_type": "code",
   "execution_count": 6,
   "id": "7ec8e4dc-7102-49a3-a63f-05a4b98d53a1",
   "metadata": {
    "tags": []
   },
   "outputs": [
    {
     "data": {
      "text/plain": [
       "{'cpu': <jaxlib.xla_extension.Client at 0x7fa2a3969570>,\n",
       " 'rocm': <jaxlib.xla_extension.Client at 0x7fa3fac55d70>}"
      ]
     },
     "execution_count": 6,
     "metadata": {},
     "output_type": "execute_result"
    }
   ],
   "source": [
    "from jax._src.lib import xla_client as xc\n",
    "#from jax._src.lib import xla_bridge\n",
    "from jax._src import xla_bridge as xb\n",
    "from jax._src.config import flags\n",
    "\n",
    "\n",
    "#FLAGS = flags.FLAGS\n",
    "#FLAGS.jax_platflorm_name\n",
    "\n",
    "#xla_bridge.is_known_platform('rocm') # True\n",
    "xc.CompileOptions()\n",
    "xb.device_count()\n",
    "\n",
    "xb._backend_factories.keys()\n",
    "xb.backends()\n",
    "#xb.devices('gpu')\n",
    "#xb._backend_factories.items()\n",
    "#xb._backend_factories['rocm']\n",
    "#rocm_backend = xb._init_backend('rocm')\n",
    "#xb._clear_backends()"
   ]
  },
  {
   "cell_type": "code",
   "execution_count": 2,
   "id": "0e5b3a41-21f5-4d8c-9c25-93a1b7cafd34",
   "metadata": {
    "tags": []
   },
   "outputs": [
    {
     "data": {
      "text/plain": [
       "environ{'HOROVOD_ROCM_HOME': '/opt/rocm',\n",
       "        'HIP_HIDDEN_FREE_MEM': '320',\n",
       "        'HCC_HOME': '/opt/rocm/hcc',\n",
       "        'HOSTNAME': 'kratos',\n",
       "        'OPENMPI_PATCHLEVEL': '7',\n",
       "        'OFED_VERSION': '5.3-1.0.5.0',\n",
       "        'MPICH_VERSION': '3.3.2',\n",
       "        'PWD': '/root',\n",
       "        'HOME': '/root/',\n",
       "        'LS_COLORS': 'rs=0:di=01;34:ln=01;36:mh=00:pi=40;33:so=01;35:do=01;35:bd=40;33;01:cd=40;33;01:or=40;31;01:mi=00:su=37;41:sg=30;43:ca=30;41:tw=30;42:ow=34;42:st=37;44:ex=01;32:*.tar=01;31:*.tgz=01;31:*.arc=01;31:*.arj=01;31:*.taz=01;31:*.lha=01;31:*.lz4=01;31:*.lzh=01;31:*.lzma=01;31:*.tlz=01;31:*.txz=01;31:*.tzo=01;31:*.t7z=01;31:*.zip=01;31:*.z=01;31:*.dz=01;31:*.gz=01;31:*.lrz=01;31:*.lz=01;31:*.lzo=01;31:*.xz=01;31:*.zst=01;31:*.tzst=01;31:*.bz2=01;31:*.bz=01;31:*.tbz=01;31:*.tbz2=01;31:*.tz=01;31:*.deb=01;31:*.rpm=01;31:*.jar=01;31:*.war=01;31:*.ear=01;31:*.sar=01;31:*.rar=01;31:*.alz=01;31:*.ace=01;31:*.zoo=01;31:*.cpio=01;31:*.7z=01;31:*.rz=01;31:*.cab=01;31:*.wim=01;31:*.swm=01;31:*.dwm=01;31:*.esd=01;31:*.jpg=01;35:*.jpeg=01;35:*.mjpg=01;35:*.mjpeg=01;35:*.gif=01;35:*.bmp=01;35:*.pbm=01;35:*.pgm=01;35:*.ppm=01;35:*.tga=01;35:*.xbm=01;35:*.xpm=01;35:*.tif=01;35:*.tiff=01;35:*.png=01;35:*.svg=01;35:*.svgz=01;35:*.mng=01;35:*.pcx=01;35:*.mov=01;35:*.mpg=01;35:*.mpeg=01;35:*.m2v=01;35:*.mkv=01;35:*.webm=01;35:*.ogm=01;35:*.mp4=01;35:*.m4v=01;35:*.mp4v=01;35:*.vob=01;35:*.qt=01;35:*.nuv=01;35:*.wmv=01;35:*.asf=01;35:*.rm=01;35:*.rmvb=01;35:*.flc=01;35:*.avi=01;35:*.fli=01;35:*.flv=01;35:*.gl=01;35:*.dl=01;35:*.xcf=01;35:*.xwd=01;35:*.yuv=01;35:*.cgm=01;35:*.emf=01;35:*.ogv=01;35:*.ogx=01;35:*.aac=00;36:*.au=00;36:*.flac=00;36:*.m4a=00;36:*.mid=00;36:*.midi=00;36:*.mka=00;36:*.mp3=00;36:*.mpc=00;36:*.ogg=00;36:*.ra=00;36:*.wav=00;36:*.oga=00;36:*.opus=00;36:*.spx=00;36:*.xspf=00;36:',\n",
       "        'HIP_PATH': '/opt/rocm/hip',\n",
       "        'HOROVOD_WITHOUT_MXNET': '1',\n",
       "        'HOROVOD_WITH_TENSORFLOW': '1',\n",
       "        'HOROVOD_ROCM_PATH': '/opt/rocm',\n",
       "        'HIP_PLATFORM': 'amd',\n",
       "        'LESSCLOSE': '/usr/bin/lesspipe %s %s',\n",
       "        'OPENMPI_HOME': '/openmpi',\n",
       "        'HOROVOD_GPU_ROCM': '1',\n",
       "        'SETUPTOOLS_USE_DISTUTILS': 'stdlib',\n",
       "        'TERM': 'xterm-color',\n",
       "        'LESSOPEN': '| /usr/bin/lesspipe %s',\n",
       "        'HOROVOD_GPU_OPERATIONS': 'NCCL',\n",
       "        'OPENMPI_VERSION': '4.0',\n",
       "        'TF_NEED_ROCM': '1',\n",
       "        'SHLVL': '1',\n",
       "        'USE_PY3': '1',\n",
       "        'LD_LIBRARY_PATH': '/openmpi/lib',\n",
       "        'HOROVOD_GPU': 'ROCM',\n",
       "        'PATH': '/openmpi/bin:/root/bin:/root/.local/bin:/opt/rocm/opencl/bin:/opt/rocm/bin:/opt/rocm/hcc/bin:/opt/rocm/hip/bin:/usr/local/sbin:/usr/local/bin:/usr/sbin:/usr/bin:/sbin:/bin',\n",
       "        'HSA_OVERRIDE_GFX_VERSION': '10.3.0',\n",
       "        'OPENCL_ROOT': '/opt/rocm/opencl',\n",
       "        'HOROVOD_WITHOUT_PYTORCH': '1',\n",
       "        '_': '/usr/local/bin/jupyter-lab',\n",
       "        'LC_CTYPE': 'C.UTF-8',\n",
       "        'PYDEVD_USE_FRAME_EVAL': 'NO',\n",
       "        'JPY_SESSION_NAME': '/root/models/Untitled.ipynb',\n",
       "        'JPY_PARENT_PID': '15',\n",
       "        'CLICOLOR': '1',\n",
       "        'FORCE_COLOR': '1',\n",
       "        'CLICOLOR_FORCE': '1',\n",
       "        'PAGER': 'cat',\n",
       "        'GIT_PAGER': 'cat',\n",
       "        'MPLBACKEND': 'module://matplotlib_inline.backend_inline',\n",
       "        'TF_CPP_MIN_LOG_LEVEL': '1'}"
      ]
     },
     "execution_count": 2,
     "metadata": {},
     "output_type": "execute_result"
    }
   ],
   "source": [
    "import os\n",
    "os.environ"
   ]
  },
  {
   "cell_type": "code",
   "execution_count": 3,
   "id": "2dccf119-5f20-488e-8b44-a0142c567e70",
   "metadata": {
    "tags": []
   },
   "outputs": [
    {
     "data": {
      "text/plain": [
       "[PhysicalDevice(name='/physical_device:CPU:0', device_type='CPU'),\n",
       " PhysicalDevice(name='/physical_device:GPU:0', device_type='GPU')]"
      ]
     },
     "execution_count": 3,
     "metadata": {},
     "output_type": "execute_result"
    }
   ],
   "source": []
  },
  {
   "cell_type": "code",
   "execution_count": null,
   "id": "3b2650a2-7eba-4a9e-8053-1904876b4e2e",
   "metadata": {},
   "outputs": [],
   "source": []
  }
 ],
 "metadata": {
  "kernelspec": {
   "display_name": "Python 3 (ipykernel)",
   "language": "python",
   "name": "python3"
  },
  "language_info": {
   "codemirror_mode": {
    "name": "ipython",
    "version": 3
   },
   "file_extension": ".py",
   "mimetype": "text/x-python",
   "name": "python",
   "nbconvert_exporter": "python",
   "pygments_lexer": "ipython3",
   "version": "3.9.16"
  }
 },
 "nbformat": 4,
 "nbformat_minor": 5
}
